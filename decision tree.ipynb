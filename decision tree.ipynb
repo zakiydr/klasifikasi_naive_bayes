{
  "nbformat": 4,
  "nbformat_minor": 0,
  "metadata": {
    "colab": {
      "name": "Test Prediksi.ipynb",
      "provenance": []
    },
    "kernelspec": {
      "name": "python3",
      "display_name": "Python 3"
    },
    "language_info": {
      "name": "python"
    }
  },
  "cells": [
    {
      "cell_type": "code",
      "metadata": {
        "id": "_R9pH_7ZmvH5"
      },
      "source": [
        "#Mengimport library\n",
        "\n",
        "import pandas as pd\n",
        "import numpy as np"
      ],
      "execution_count": null,
      "outputs": []
    },
    {
      "cell_type": "code",
      "metadata": {
        "colab": {
          "base_uri": "https://localhost:8080/",
          "height": 357
        },
        "id": "HDxeQS_LmwRc",
        "outputId": "c5d54381-3dd3-4bb5-9564-fbdaa2b46c82"
      },
      "source": [
        "#Memanggil file csv yang akan digunakan\n",
        "\n",
        "dataset = pd.read_csv('data.csv', header=0)\n",
        "dataset"
      ],
      "execution_count": null,
      "outputs": [
        {
          "output_type": "execute_result",
          "data": {
            "text/html": [
              "<div>\n",
              "<style scoped>\n",
              "    .dataframe tbody tr th:only-of-type {\n",
              "        vertical-align: middle;\n",
              "    }\n",
              "\n",
              "    .dataframe tbody tr th {\n",
              "        vertical-align: top;\n",
              "    }\n",
              "\n",
              "    .dataframe thead th {\n",
              "        text-align: right;\n",
              "    }\n",
              "</style>\n",
              "<table border=\"1\" class=\"dataframe\">\n",
              "  <thead>\n",
              "    <tr style=\"text-align: right;\">\n",
              "      <th></th>\n",
              "      <th>warna</th>\n",
              "      <th>bulu</th>\n",
              "      <th>makanan kesukaan</th>\n",
              "      <th>jenis</th>\n",
              "    </tr>\n",
              "  </thead>\n",
              "  <tbody>\n",
              "    <tr>\n",
              "      <th>0</th>\n",
              "      <td>hitam</td>\n",
              "      <td>panjang</td>\n",
              "      <td>wortel</td>\n",
              "      <td>A</td>\n",
              "    </tr>\n",
              "    <tr>\n",
              "      <th>1</th>\n",
              "      <td>putih</td>\n",
              "      <td>panjang</td>\n",
              "      <td>wortel</td>\n",
              "      <td>A</td>\n",
              "    </tr>\n",
              "    <tr>\n",
              "      <th>2</th>\n",
              "      <td>cokelat</td>\n",
              "      <td>pendek</td>\n",
              "      <td>kangkung</td>\n",
              "      <td>B</td>\n",
              "    </tr>\n",
              "    <tr>\n",
              "      <th>3</th>\n",
              "      <td>hitam</td>\n",
              "      <td>pendek</td>\n",
              "      <td>kangkung</td>\n",
              "      <td>B</td>\n",
              "    </tr>\n",
              "    <tr>\n",
              "      <th>4</th>\n",
              "      <td>hitam</td>\n",
              "      <td>gimbal</td>\n",
              "      <td>rumput</td>\n",
              "      <td>C</td>\n",
              "    </tr>\n",
              "    <tr>\n",
              "      <th>5</th>\n",
              "      <td>cokelat</td>\n",
              "      <td>gimbal</td>\n",
              "      <td>rumput</td>\n",
              "      <td>A</td>\n",
              "    </tr>\n",
              "    <tr>\n",
              "      <th>6</th>\n",
              "      <td>cokelat</td>\n",
              "      <td>panjang</td>\n",
              "      <td>rumput</td>\n",
              "      <td>B</td>\n",
              "    </tr>\n",
              "    <tr>\n",
              "      <th>7</th>\n",
              "      <td>putih</td>\n",
              "      <td>pendek</td>\n",
              "      <td>wortel</td>\n",
              "      <td>B</td>\n",
              "    </tr>\n",
              "    <tr>\n",
              "      <th>8</th>\n",
              "      <td>putih</td>\n",
              "      <td>pendek</td>\n",
              "      <td>kangkung</td>\n",
              "      <td>C</td>\n",
              "    </tr>\n",
              "    <tr>\n",
              "      <th>9</th>\n",
              "      <td>cokelat</td>\n",
              "      <td>gimbal</td>\n",
              "      <td>kangkung</td>\n",
              "      <td>C</td>\n",
              "    </tr>\n",
              "  </tbody>\n",
              "</table>\n",
              "</div>"
            ],
            "text/plain": [
              "     warna     bulu makanan kesukaan jenis\n",
              "0    hitam  panjang           wortel     A\n",
              "1    putih  panjang           wortel     A\n",
              "2  cokelat   pendek         kangkung     B\n",
              "3    hitam   pendek         kangkung     B\n",
              "4    hitam   gimbal           rumput     C\n",
              "5  cokelat   gimbal           rumput     A\n",
              "6  cokelat  panjang           rumput     B\n",
              "7    putih   pendek           wortel     B\n",
              "8    putih   pendek         kangkung     C\n",
              "9  cokelat   gimbal         kangkung     C"
            ]
          },
          "metadata": {},
          "execution_count": 47
        }
      ]
    },
    {
      "cell_type": "code",
      "metadata": {
        "id": "W8q0r4fxmzFH"
      },
      "source": [
        "#Mengimport library dan menyimpan fungsinya di dalam variabel\n",
        "\n",
        "from sklearn.preprocessing import LabelEncoder\n",
        "le = LabelEncoder()"
      ],
      "execution_count": null,
      "outputs": []
    },
    {
      "cell_type": "code",
      "metadata": {
        "colab": {
          "base_uri": "https://localhost:8080/",
          "height": 357
        },
        "id": "1FZcNjDXm0vc",
        "outputId": "bf13f912-8b8d-404a-894c-f15d8c832d7a"
      },
      "source": [
        "#Mengubah tipe data menjadi integer\n",
        "dataset['warna'] = le.fit_transform(dataset['warna'].values)\n",
        "dataset['bulu'] = le.fit_transform(dataset['bulu'].values)\n",
        "dataset['makanan kesukaan'] = le.fit_transform(dataset['makanan kesukaan'].values)\n",
        "dataset['jenis'] = le.fit_transform(dataset['jenis'].values)\n",
        "dataset"
      ],
      "execution_count": null,
      "outputs": [
        {
          "output_type": "execute_result",
          "data": {
            "text/html": [
              "<div>\n",
              "<style scoped>\n",
              "    .dataframe tbody tr th:only-of-type {\n",
              "        vertical-align: middle;\n",
              "    }\n",
              "\n",
              "    .dataframe tbody tr th {\n",
              "        vertical-align: top;\n",
              "    }\n",
              "\n",
              "    .dataframe thead th {\n",
              "        text-align: right;\n",
              "    }\n",
              "</style>\n",
              "<table border=\"1\" class=\"dataframe\">\n",
              "  <thead>\n",
              "    <tr style=\"text-align: right;\">\n",
              "      <th></th>\n",
              "      <th>warna</th>\n",
              "      <th>bulu</th>\n",
              "      <th>makanan kesukaan</th>\n",
              "      <th>jenis</th>\n",
              "    </tr>\n",
              "  </thead>\n",
              "  <tbody>\n",
              "    <tr>\n",
              "      <th>0</th>\n",
              "      <td>1</td>\n",
              "      <td>1</td>\n",
              "      <td>2</td>\n",
              "      <td>0</td>\n",
              "    </tr>\n",
              "    <tr>\n",
              "      <th>1</th>\n",
              "      <td>2</td>\n",
              "      <td>1</td>\n",
              "      <td>2</td>\n",
              "      <td>0</td>\n",
              "    </tr>\n",
              "    <tr>\n",
              "      <th>2</th>\n",
              "      <td>0</td>\n",
              "      <td>2</td>\n",
              "      <td>0</td>\n",
              "      <td>1</td>\n",
              "    </tr>\n",
              "    <tr>\n",
              "      <th>3</th>\n",
              "      <td>1</td>\n",
              "      <td>2</td>\n",
              "      <td>0</td>\n",
              "      <td>1</td>\n",
              "    </tr>\n",
              "    <tr>\n",
              "      <th>4</th>\n",
              "      <td>1</td>\n",
              "      <td>0</td>\n",
              "      <td>1</td>\n",
              "      <td>2</td>\n",
              "    </tr>\n",
              "    <tr>\n",
              "      <th>5</th>\n",
              "      <td>0</td>\n",
              "      <td>0</td>\n",
              "      <td>1</td>\n",
              "      <td>0</td>\n",
              "    </tr>\n",
              "    <tr>\n",
              "      <th>6</th>\n",
              "      <td>0</td>\n",
              "      <td>1</td>\n",
              "      <td>1</td>\n",
              "      <td>1</td>\n",
              "    </tr>\n",
              "    <tr>\n",
              "      <th>7</th>\n",
              "      <td>2</td>\n",
              "      <td>2</td>\n",
              "      <td>2</td>\n",
              "      <td>1</td>\n",
              "    </tr>\n",
              "    <tr>\n",
              "      <th>8</th>\n",
              "      <td>2</td>\n",
              "      <td>2</td>\n",
              "      <td>0</td>\n",
              "      <td>2</td>\n",
              "    </tr>\n",
              "    <tr>\n",
              "      <th>9</th>\n",
              "      <td>0</td>\n",
              "      <td>0</td>\n",
              "      <td>0</td>\n",
              "      <td>2</td>\n",
              "    </tr>\n",
              "  </tbody>\n",
              "</table>\n",
              "</div>"
            ],
            "text/plain": [
              "   warna  bulu  makanan kesukaan  jenis\n",
              "0      1     1                 2      0\n",
              "1      2     1                 2      0\n",
              "2      0     2                 0      1\n",
              "3      1     2                 0      1\n",
              "4      1     0                 1      2\n",
              "5      0     0                 1      0\n",
              "6      0     1                 1      1\n",
              "7      2     2                 2      1\n",
              "8      2     2                 0      2\n",
              "9      0     0                 0      2"
            ]
          },
          "metadata": {},
          "execution_count": 49
        }
      ]
    },
    {
      "cell_type": "code",
      "metadata": {
        "id": "UGKJuL7wm3ep"
      },
      "source": [
        "#Mengubah dataset menjadi matriks\n",
        "\n",
        "dataset = dataset.to_numpy()"
      ],
      "execution_count": null,
      "outputs": []
    },
    {
      "cell_type": "code",
      "metadata": {
        "colab": {
          "base_uri": "https://localhost:8080/",
          "height": 203
        },
        "id": "QLhBBJNWm8K3",
        "outputId": "673c7926-2f37-49cb-8036-a4e4f8538797"
      },
      "source": [
        "#Memanggil file csv yang akan digunakan untuk perbandingan prediksi\n",
        "\n",
        "dataset2 = pd.read_csv('prediksi.csv', header=0)\n",
        "dataset2"
      ],
      "execution_count": null,
      "outputs": [
        {
          "output_type": "execute_result",
          "data": {
            "text/html": [
              "<div>\n",
              "<style scoped>\n",
              "    .dataframe tbody tr th:only-of-type {\n",
              "        vertical-align: middle;\n",
              "    }\n",
              "\n",
              "    .dataframe tbody tr th {\n",
              "        vertical-align: top;\n",
              "    }\n",
              "\n",
              "    .dataframe thead th {\n",
              "        text-align: right;\n",
              "    }\n",
              "</style>\n",
              "<table border=\"1\" class=\"dataframe\">\n",
              "  <thead>\n",
              "    <tr style=\"text-align: right;\">\n",
              "      <th></th>\n",
              "      <th>warna</th>\n",
              "      <th>bulu</th>\n",
              "      <th>makanan kesukaan</th>\n",
              "      <th>jenis</th>\n",
              "    </tr>\n",
              "  </thead>\n",
              "  <tbody>\n",
              "    <tr>\n",
              "      <th>0</th>\n",
              "      <td>hitam</td>\n",
              "      <td>gimbal</td>\n",
              "      <td>rumput</td>\n",
              "      <td>A</td>\n",
              "    </tr>\n",
              "    <tr>\n",
              "      <th>1</th>\n",
              "      <td>putih</td>\n",
              "      <td>pendek</td>\n",
              "      <td>wortel</td>\n",
              "      <td>B</td>\n",
              "    </tr>\n",
              "    <tr>\n",
              "      <th>2</th>\n",
              "      <td>coklat</td>\n",
              "      <td>panjang</td>\n",
              "      <td>kangkung</td>\n",
              "      <td>C</td>\n",
              "    </tr>\n",
              "    <tr>\n",
              "      <th>3</th>\n",
              "      <td>putih</td>\n",
              "      <td>panjang</td>\n",
              "      <td>rumput</td>\n",
              "      <td>C</td>\n",
              "    </tr>\n",
              "    <tr>\n",
              "      <th>4</th>\n",
              "      <td>coklat</td>\n",
              "      <td>gimbal</td>\n",
              "      <td>kangkung</td>\n",
              "      <td>B</td>\n",
              "    </tr>\n",
              "  </tbody>\n",
              "</table>\n",
              "</div>"
            ],
            "text/plain": [
              "    warna     bulu makanan kesukaan jenis\n",
              "0   hitam   gimbal           rumput     A\n",
              "1   putih   pendek           wortel     B\n",
              "2  coklat  panjang         kangkung     C\n",
              "3   putih  panjang           rumput     C\n",
              "4  coklat   gimbal         kangkung     B"
            ]
          },
          "metadata": {},
          "execution_count": 51
        }
      ]
    },
    {
      "cell_type": "code",
      "metadata": {
        "colab": {
          "base_uri": "https://localhost:8080/",
          "height": 203
        },
        "id": "CGAtPDxYm-AW",
        "outputId": "54744746-c6d3-4c18-d0d8-799bc439bee5"
      },
      "source": [
        "#Mengubah tipe data menjadi integer\n",
        "dataset2['warna'] = le.fit_transform(dataset2['warna'].values)\n",
        "dataset2['bulu'] = le.fit_transform(dataset2['bulu'].values)\n",
        "dataset2['makanan kesukaan'] = le.fit_transform(dataset2['makanan kesukaan'].values)\n",
        "dataset2['jenis'] = le.fit_transform(dataset2['jenis'].values)\n",
        "dataset2"
      ],
      "execution_count": null,
      "outputs": [
        {
          "output_type": "execute_result",
          "data": {
            "text/html": [
              "<div>\n",
              "<style scoped>\n",
              "    .dataframe tbody tr th:only-of-type {\n",
              "        vertical-align: middle;\n",
              "    }\n",
              "\n",
              "    .dataframe tbody tr th {\n",
              "        vertical-align: top;\n",
              "    }\n",
              "\n",
              "    .dataframe thead th {\n",
              "        text-align: right;\n",
              "    }\n",
              "</style>\n",
              "<table border=\"1\" class=\"dataframe\">\n",
              "  <thead>\n",
              "    <tr style=\"text-align: right;\">\n",
              "      <th></th>\n",
              "      <th>warna</th>\n",
              "      <th>bulu</th>\n",
              "      <th>makanan kesukaan</th>\n",
              "      <th>jenis</th>\n",
              "    </tr>\n",
              "  </thead>\n",
              "  <tbody>\n",
              "    <tr>\n",
              "      <th>0</th>\n",
              "      <td>1</td>\n",
              "      <td>0</td>\n",
              "      <td>1</td>\n",
              "      <td>0</td>\n",
              "    </tr>\n",
              "    <tr>\n",
              "      <th>1</th>\n",
              "      <td>2</td>\n",
              "      <td>2</td>\n",
              "      <td>2</td>\n",
              "      <td>1</td>\n",
              "    </tr>\n",
              "    <tr>\n",
              "      <th>2</th>\n",
              "      <td>0</td>\n",
              "      <td>1</td>\n",
              "      <td>0</td>\n",
              "      <td>2</td>\n",
              "    </tr>\n",
              "    <tr>\n",
              "      <th>3</th>\n",
              "      <td>2</td>\n",
              "      <td>1</td>\n",
              "      <td>1</td>\n",
              "      <td>2</td>\n",
              "    </tr>\n",
              "    <tr>\n",
              "      <th>4</th>\n",
              "      <td>0</td>\n",
              "      <td>0</td>\n",
              "      <td>0</td>\n",
              "      <td>1</td>\n",
              "    </tr>\n",
              "  </tbody>\n",
              "</table>\n",
              "</div>"
            ],
            "text/plain": [
              "   warna  bulu  makanan kesukaan  jenis\n",
              "0      1     0                 1      0\n",
              "1      2     2                 2      1\n",
              "2      0     1                 0      2\n",
              "3      2     1                 1      2\n",
              "4      0     0                 0      1"
            ]
          },
          "metadata": {},
          "execution_count": 52
        }
      ]
    },
    {
      "cell_type": "code",
      "metadata": {
        "id": "IzBOIMNEnG1S"
      },
      "source": [
        "#Mengubah dataset2 menjadi bentuk matriks\n",
        "\n",
        "dataset2 = dataset2.to_numpy()"
      ],
      "execution_count": null,
      "outputs": []
    },
    {
      "cell_type": "code",
      "metadata": {
        "id": "DrG6gANknJWa"
      },
      "source": [
        "#Melakukan inisialisasi untuk dataset (data training) dan dataset2 (data testing)\n",
        "\n",
        "data_input, data_label = dataset, dataset\n",
        "prediksi_input, prediksi_label = dataset2, dataset2\n",
        "# data_label = dataset\n",
        "# prediksi_label = dataset2"
      ],
      "execution_count": null,
      "outputs": []
    },
    {
      "cell_type": "code",
      "metadata": {
        "id": "IjTGjHtBnKo9"
      },
      "source": [
        "#Inisialisasi fungsi DecisonTreeClasifier\n",
        "from sklearn import tree\n",
        "model = tree.DecisionTreeClassifier()"
      ],
      "execution_count": null,
      "outputs": []
    },
    {
      "cell_type": "code",
      "metadata": {
        "id": "o6V1nY78nL9x"
      },
      "source": [
        "#Menggabungkan dataset\n",
        "\n",
        "model = model.fit(data_input, data_label)"
      ],
      "execution_count": null,
      "outputs": []
    },
    {
      "cell_type": "code",
      "metadata": {
        "colab": {
          "base_uri": "https://localhost:8080/"
        },
        "id": "hX2QS4BjnM7E",
        "outputId": "b0fa6742-81e0-4b6a-faf2-ccab7f02d2c5"
      },
      "source": [
        "#Melakukan perbandingan antara dataset (data) dan dataset2 (prediksi)\n",
        "\n",
        "hasil_prediksi = model.predict(prediksi_label)\n",
        "print('Label Sebenarnya')\n",
        "print(prediksi_label)\n",
        "print('\\nHasil Prediksi')\n",
        "print(hasil_prediksi)"
      ],
      "execution_count": null,
      "outputs": [
        {
          "output_type": "stream",
          "name": "stdout",
          "text": [
            "Label Sebenarnya\n",
            "[[1 0 1 0]\n",
            " [2 2 2 1]\n",
            " [0 1 0 2]\n",
            " [2 1 1 2]\n",
            " [0 0 0 1]]\n",
            "\n",
            "Hasil Prediksi\n",
            "[[0 0 1 0]\n",
            " [2 2 2 1]\n",
            " [0 0 0 2]\n",
            " [1 0 1 2]\n",
            " [0 0 1 0]]\n"
          ]
        }
      ]
    },
    {
      "cell_type": "code",
      "metadata": {
        "colab": {
          "base_uri": "https://localhost:8080/"
        },
        "id": "V8Di7eahtLZe",
        "outputId": "c233adbf-94ec-4982-9fc3-421c11bedb9f"
      },
      "source": [
        "#Mengidentifikasi prediksi dan nilai akurasi\n",
        "\n",
        "prediksi_benar = (hasil_prediksi == prediksi_label).sum()\n",
        "prediksi_salah = (hasil_prediksi != prediksi_label).sum()\n",
        "print(f'Prediksi benar : {prediksi_benar} data')\n",
        "print(f'Prediksi salah : {prediksi_salah} data')\n",
        "print(f'Nilai Akurasi {prediksi_benar/(prediksi_benar + prediksi_salah)*100}%')"
      ],
      "execution_count": null,
      "outputs": [
        {
          "output_type": "stream",
          "name": "stdout",
          "text": [
            "Prediksi benar : 14 data\n",
            "Prediksi salah : 6 data\n",
            "Nilai Akurasi 70.0%\n"
          ]
        }
      ]
    },
    {
      "cell_type": "code",
      "metadata": {
        "colab": {
          "base_uri": "https://localhost:8080/",
          "height": 35
        },
        "id": "3E0izT5etN1x",
        "outputId": "3e66c54b-c441-4ac5-ff17-27013b147393"
      },
      "source": [
        "#Membuat grafis visualisasi dari Decision Tree\n",
        "\n",
        "from sklearn.tree import export_graphviz\n",
        "export_graphviz(model, out_file=\"DecisionTree\", impurity=False, filled=True)\n",
        "\n",
        "import graphviz\n",
        "\n",
        "with open('DecisionTree') as fig:\n",
        "    dot_graph = fig.read()\n",
        "    graph = graphviz.Source(dot_graph)\n",
        "\n",
        "graph.view()"
      ],
      "execution_count": null,
      "outputs": [
        {
          "output_type": "execute_result",
          "data": {
            "application/vnd.google.colaboratory.intrinsic+json": {
              "type": "string"
            },
            "text/plain": [
              "'Source.gv.pdf'"
            ]
          },
          "metadata": {},
          "execution_count": 59
        }
      ]
    }
  ]
}